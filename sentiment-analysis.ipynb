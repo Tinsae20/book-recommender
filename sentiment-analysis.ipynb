{
 "cells": [
  {
   "cell_type": "code",
   "id": "initial_id",
   "metadata": {
    "collapsed": true,
    "ExecuteTime": {
     "end_time": "2025-10-01T11:15:24.198095Z",
     "start_time": "2025-10-01T11:15:23.100488Z"
    }
   },
   "source": [
    "import pandas as pd\n",
    "\n",
    "books = pd.read_csv(\"books_with_categories.csv\")\n",
    "\n",
    "import torch\n",
    "print(torch.backends.mps.is_available())\n"
   ],
   "outputs": [
    {
     "name": "stdout",
     "output_type": "stream",
     "text": [
      "True\n"
     ]
    }
   ],
   "execution_count": 1
  },
  {
   "cell_type": "code",
   "id": "88de5988b1c5b128",
   "metadata": {
    "ExecuteTime": {
     "end_time": "2025-10-01T11:24:07.475440Z",
     "start_time": "2025-10-01T11:15:27.729092Z"
    }
   },
   "source": [
    "# Use a pipeline as a high-level helper\n",
    "from transformers import pipeline\n",
    "\n",
    "pipe = pipeline(\"text-classification\",\n",
    "                model=\"j-hartmann/emotion-english-distilroberta-base\",\n",
    "                top_k=None,\n",
    "                device=\"mps\"\n",
    "       )\n",
    "\n",
    "pipe(\"I love this!\")"
   ],
   "outputs": [
    {
     "data": {
      "text/plain": [
       "pytorch_model.bin:   0%|          | 0.00/329M [00:00<?, ?B/s]"
      ],
      "application/vnd.jupyter.widget-view+json": {
       "version_major": 2,
       "version_minor": 0,
       "model_id": "a3d331c4f67949beb860eaaa75ed8395"
      }
     },
     "metadata": {},
     "output_type": "display_data",
     "jetTransient": {
      "display_id": null
     }
    },
    {
     "data": {
      "text/plain": [
       "tokenizer_config.json:   0%|          | 0.00/294 [00:00<?, ?B/s]"
      ],
      "application/vnd.jupyter.widget-view+json": {
       "version_major": 2,
       "version_minor": 0,
       "model_id": "cedba17933ab4e72a207fccfe081594f"
      }
     },
     "metadata": {},
     "output_type": "display_data",
     "jetTransient": {
      "display_id": null
     }
    },
    {
     "data": {
      "text/plain": [
       "vocab.json: 0.00B [00:00, ?B/s]"
      ],
      "application/vnd.jupyter.widget-view+json": {
       "version_major": 2,
       "version_minor": 0,
       "model_id": "20a8db07672341b2b3f3dbaf92d1a80d"
      }
     },
     "metadata": {},
     "output_type": "display_data",
     "jetTransient": {
      "display_id": null
     }
    },
    {
     "data": {
      "text/plain": [
       "model.safetensors:   0%|          | 0.00/329M [00:00<?, ?B/s]"
      ],
      "application/vnd.jupyter.widget-view+json": {
       "version_major": 2,
       "version_minor": 0,
       "model_id": "8ee6768853f84512b82e5f44c8baeff2"
      }
     },
     "metadata": {},
     "output_type": "display_data",
     "jetTransient": {
      "display_id": null
     }
    },
    {
     "data": {
      "text/plain": [
       "merges.txt: 0.00B [00:00, ?B/s]"
      ],
      "application/vnd.jupyter.widget-view+json": {
       "version_major": 2,
       "version_minor": 0,
       "model_id": "c2d79916b9144a568d2a559a921f46b7"
      }
     },
     "metadata": {},
     "output_type": "display_data",
     "jetTransient": {
      "display_id": null
     }
    },
    {
     "data": {
      "text/plain": [
       "tokenizer.json: 0.00B [00:00, ?B/s]"
      ],
      "application/vnd.jupyter.widget-view+json": {
       "version_major": 2,
       "version_minor": 0,
       "model_id": "cfd773dd72d14b5e82271dea3c7d1702"
      }
     },
     "metadata": {},
     "output_type": "display_data",
     "jetTransient": {
      "display_id": null
     }
    },
    {
     "data": {
      "text/plain": [
       "special_tokens_map.json:   0%|          | 0.00/239 [00:00<?, ?B/s]"
      ],
      "application/vnd.jupyter.widget-view+json": {
       "version_major": 2,
       "version_minor": 0,
       "model_id": "ad66fce854f34e1cb99772ec80529e3a"
      }
     },
     "metadata": {},
     "output_type": "display_data",
     "jetTransient": {
      "display_id": null
     }
    },
    {
     "name": "stderr",
     "output_type": "stream",
     "text": [
      "Device set to use mps\n"
     ]
    },
    {
     "data": {
      "text/plain": [
       "[[{'label': 'surprise', 'score': 0.48696979880332947},\n",
       "  {'label': 'neutral', 'score': 0.2234414517879486},\n",
       "  {'label': 'joy', 'score': 0.14913064241409302},\n",
       "  {'label': 'anger', 'score': 0.07174026966094971},\n",
       "  {'label': 'sadness', 'score': 0.04664652422070503},\n",
       "  {'label': 'disgust', 'score': 0.01629774644970894},\n",
       "  {'label': 'fear', 'score': 0.005773560609668493}]]"
      ]
     },
     "execution_count": 2,
     "metadata": {},
     "output_type": "execute_result"
    }
   ],
   "execution_count": 2
  },
  {
   "metadata": {
    "ExecuteTime": {
     "end_time": "2025-10-01T11:24:18.367047Z",
     "start_time": "2025-10-01T11:24:18.165368Z"
    }
   },
   "cell_type": "code",
   "source": "pipe(books[\"description\"][0])",
   "id": "39aa0e6105dfdddb",
   "outputs": [
    {
     "data": {
      "text/plain": [
       "[[{'label': 'fear', 'score': 0.654841423034668},\n",
       "  {'label': 'neutral', 'score': 0.16985200345516205},\n",
       "  {'label': 'sadness', 'score': 0.11640875786542892},\n",
       "  {'label': 'surprise', 'score': 0.02070065401494503},\n",
       "  {'label': 'disgust', 'score': 0.019100766628980637},\n",
       "  {'label': 'joy', 'score': 0.015161258168518543},\n",
       "  {'label': 'anger', 'score': 0.003935154993087053}]]"
      ]
     },
     "execution_count": 3,
     "metadata": {},
     "output_type": "execute_result"
    }
   ],
   "execution_count": 3
  },
  {
   "metadata": {
    "ExecuteTime": {
     "end_time": "2025-10-01T11:26:09.074525Z",
     "start_time": "2025-10-01T11:26:07.728026Z"
    }
   },
   "cell_type": "code",
   "source": "pipe(books[\"description\"][0].split(\".\"))",
   "id": "8232833df530a6da",
   "outputs": [
    {
     "data": {
      "text/plain": [
       "[[{'label': 'surprise', 'score': 0.7296027541160583},\n",
       "  {'label': 'neutral', 'score': 0.1403856724500656},\n",
       "  {'label': 'fear', 'score': 0.06816212832927704},\n",
       "  {'label': 'joy', 'score': 0.047942448407411575},\n",
       "  {'label': 'anger', 'score': 0.009156345389783382},\n",
       "  {'label': 'disgust', 'score': 0.0026284728664904833},\n",
       "  {'label': 'sadness', 'score': 0.002122161677107215}],\n",
       " [{'label': 'neutral', 'score': 0.44937166571617126},\n",
       "  {'label': 'disgust', 'score': 0.2735905349254608},\n",
       "  {'label': 'joy', 'score': 0.10908280313014984},\n",
       "  {'label': 'sadness', 'score': 0.09362749755382538},\n",
       "  {'label': 'anger', 'score': 0.040478236973285675},\n",
       "  {'label': 'surprise', 'score': 0.02697022631764412},\n",
       "  {'label': 'fear', 'score': 0.006879068911075592}],\n",
       " [{'label': 'neutral', 'score': 0.6462165713310242},\n",
       "  {'label': 'sadness', 'score': 0.24273279309272766},\n",
       "  {'label': 'disgust', 'score': 0.04342265799641609},\n",
       "  {'label': 'surprise', 'score': 0.028300516307353973},\n",
       "  {'label': 'joy', 'score': 0.014211458154022694},\n",
       "  {'label': 'fear', 'score': 0.014084113761782646},\n",
       "  {'label': 'anger', 'score': 0.011031891219317913}],\n",
       " [{'label': 'fear', 'score': 0.9281684160232544},\n",
       "  {'label': 'anger', 'score': 0.0321907177567482},\n",
       "  {'label': 'neutral', 'score': 0.01280868612229824},\n",
       "  {'label': 'sadness', 'score': 0.008756847120821476},\n",
       "  {'label': 'surprise', 'score': 0.008597885258495808},\n",
       "  {'label': 'disgust', 'score': 0.00843180064111948},\n",
       "  {'label': 'joy', 'score': 0.0010455804876983166}],\n",
       " [{'label': 'sadness', 'score': 0.9671575427055359},\n",
       "  {'label': 'neutral', 'score': 0.015104164369404316},\n",
       "  {'label': 'disgust', 'score': 0.006480592768639326},\n",
       "  {'label': 'fear', 'score': 0.005393992643803358},\n",
       "  {'label': 'surprise', 'score': 0.0022869398817420006},\n",
       "  {'label': 'anger', 'score': 0.0018428867915645242},\n",
       "  {'label': 'joy', 'score': 0.0017338788602501154}],\n",
       " [{'label': 'joy', 'score': 0.9327980279922485},\n",
       "  {'label': 'disgust', 'score': 0.03771708533167839},\n",
       "  {'label': 'neutral', 'score': 0.015891848132014275},\n",
       "  {'label': 'sadness', 'score': 0.006444487255066633},\n",
       "  {'label': 'anger', 'score': 0.005024975165724754},\n",
       "  {'label': 'surprise', 'score': 0.001581205753609538},\n",
       "  {'label': 'fear', 'score': 0.0005423066904768348}],\n",
       " [{'label': 'joy', 'score': 0.6528699398040771},\n",
       "  {'label': 'neutral', 'score': 0.25427526235580444},\n",
       "  {'label': 'surprise', 'score': 0.06808328628540039},\n",
       "  {'label': 'sadness', 'score': 0.00990901980549097},\n",
       "  {'label': 'disgust', 'score': 0.006512223277240992},\n",
       "  {'label': 'anger', 'score': 0.004821322858333588},\n",
       "  {'label': 'fear', 'score': 0.003529022680595517}],\n",
       " [{'label': 'neutral', 'score': 0.6089329123497009},\n",
       "  {'label': 'disgust', 'score': 0.15766695141792297},\n",
       "  {'label': 'sadness', 'score': 0.07482506334781647},\n",
       "  {'label': 'anger', 'score': 0.051973048597574234},\n",
       "  {'label': 'surprise', 'score': 0.04693116247653961},\n",
       "  {'label': 'fear', 'score': 0.038786713033914566},\n",
       "  {'label': 'joy', 'score': 0.020884130150079727}]]"
      ]
     },
     "execution_count": 4,
     "metadata": {},
     "output_type": "execute_result"
    }
   ],
   "execution_count": 4
  },
  {
   "metadata": {
    "ExecuteTime": {
     "end_time": "2025-10-01T11:27:09.524896Z",
     "start_time": "2025-10-01T11:27:09.399009Z"
    }
   },
   "cell_type": "code",
   "source": [
    "sentences = books[\"description\"][0].split(\".\")\n",
    "predictions = pipe(sentences)"
   ],
   "id": "b35fe791ede0e858",
   "outputs": [],
   "execution_count": 5
  },
  {
   "metadata": {
    "ExecuteTime": {
     "end_time": "2025-10-01T11:27:25.957675Z",
     "start_time": "2025-10-01T11:27:25.954092Z"
    }
   },
   "cell_type": "code",
   "source": "sentences[0]",
   "id": "c7efa279f889bdfc",
   "outputs": [
    {
     "data": {
      "text/plain": [
       "'A NOVEL THAT READERS and critics have been eagerly anticipating for over a decade, Gilead is an astonishingly imagined story of remarkable lives'"
      ]
     },
     "execution_count": 6,
     "metadata": {},
     "output_type": "execute_result"
    }
   ],
   "execution_count": 6
  },
  {
   "metadata": {
    "ExecuteTime": {
     "end_time": "2025-10-01T11:27:35.763788Z",
     "start_time": "2025-10-01T11:27:35.760236Z"
    }
   },
   "cell_type": "code",
   "source": "predictions[0]",
   "id": "b75c1359f69c1200",
   "outputs": [
    {
     "data": {
      "text/plain": [
       "[{'label': 'surprise', 'score': 0.7296027541160583},\n",
       " {'label': 'neutral', 'score': 0.1403856724500656},\n",
       " {'label': 'fear', 'score': 0.06816212832927704},\n",
       " {'label': 'joy', 'score': 0.047942448407411575},\n",
       " {'label': 'anger', 'score': 0.009156345389783382},\n",
       " {'label': 'disgust', 'score': 0.0026284728664904833},\n",
       " {'label': 'sadness', 'score': 0.002122161677107215}]"
      ]
     },
     "execution_count": 7,
     "metadata": {},
     "output_type": "execute_result"
    }
   ],
   "execution_count": 7
  },
  {
   "metadata": {
    "ExecuteTime": {
     "end_time": "2025-10-01T11:27:56.678013Z",
     "start_time": "2025-10-01T11:27:56.674354Z"
    }
   },
   "cell_type": "code",
   "source": "sentences[3]",
   "id": "46f5d6d0a5a4c587",
   "outputs": [
    {
     "data": {
      "text/plain": [
       "' Haunted by his grandfather’s presence, John tells of the rift between his grandfather and his father: the elder, an angry visionary who fought for the abolitionist cause, and his son, an ardent pacifist'"
      ]
     },
     "execution_count": 8,
     "metadata": {},
     "output_type": "execute_result"
    }
   ],
   "execution_count": 8
  },
  {
   "metadata": {
    "ExecuteTime": {
     "end_time": "2025-10-01T11:28:04.406575Z",
     "start_time": "2025-10-01T11:28:04.403571Z"
    }
   },
   "cell_type": "code",
   "source": "predictions[3]",
   "id": "b59bc8752d7265a5",
   "outputs": [
    {
     "data": {
      "text/plain": [
       "[{'label': 'fear', 'score': 0.9281684160232544},\n",
       " {'label': 'anger', 'score': 0.0321907177567482},\n",
       " {'label': 'neutral', 'score': 0.01280868612229824},\n",
       " {'label': 'sadness', 'score': 0.008756847120821476},\n",
       " {'label': 'surprise', 'score': 0.008597885258495808},\n",
       " {'label': 'disgust', 'score': 0.00843180064111948},\n",
       " {'label': 'joy', 'score': 0.0010455804876983166}]"
      ]
     },
     "execution_count": 9,
     "metadata": {},
     "output_type": "execute_result"
    }
   ],
   "execution_count": 9
  },
  {
   "metadata": {
    "ExecuteTime": {
     "end_time": "2025-10-01T11:29:58.437804Z",
     "start_time": "2025-10-01T11:29:58.432584Z"
    }
   },
   "cell_type": "code",
   "source": "sorted(predictions[0], key=lambda x: x[\"label\"])",
   "id": "bf645f2dc426d83d",
   "outputs": [
    {
     "data": {
      "text/plain": [
       "[{'label': 'anger', 'score': 0.009156345389783382},\n",
       " {'label': 'disgust', 'score': 0.0026284728664904833},\n",
       " {'label': 'fear', 'score': 0.06816212832927704},\n",
       " {'label': 'joy', 'score': 0.047942448407411575},\n",
       " {'label': 'neutral', 'score': 0.1403856724500656},\n",
       " {'label': 'sadness', 'score': 0.002122161677107215},\n",
       " {'label': 'surprise', 'score': 0.7296027541160583}]"
      ]
     },
     "execution_count": 10,
     "metadata": {},
     "output_type": "execute_result"
    }
   ],
   "execution_count": 10
  },
  {
   "metadata": {
    "ExecuteTime": {
     "end_time": "2025-10-01T11:30:28.739109Z",
     "start_time": "2025-10-01T11:30:28.736946Z"
    }
   },
   "cell_type": "code",
   "source": "import numpy as np",
   "id": "86c2d3e7c098ab0d",
   "outputs": [],
   "execution_count": 11
  },
  {
   "metadata": {
    "ExecuteTime": {
     "end_time": "2025-10-01T11:35:03.026007Z",
     "start_time": "2025-10-01T11:35:03.023705Z"
    }
   },
   "cell_type": "code",
   "source": [
    "emotion_labels = [\"anger\", \"disgust\", \"fear\", \"joy\", \"sadness\", \"surprise\", \"neutral\"]\n",
    "isbn = []\n",
    "emotion_scores = {label: [] for label in emotion_labels}\n",
    "\n",
    "def calculate_max_emotion_scores(predictions):\n",
    "    per_emotion_scores = {label: [] for label in emotion_labels}\n",
    "    for prediction in predictions:\n",
    "        sorted_predictions = sorted(prediction, key=lambda x: x[\"label\"])\n",
    "        for index, label in enumerate(emotion_labels):\n",
    "            per_emotion_scores[label].append(sorted_predictions[index][\"score\"])\n",
    "    return {label: np.max(scores) for label, scores in per_emotion_scores.items()}\n"
   ],
   "id": "d7a4ab63b196c8be",
   "outputs": [],
   "execution_count": 12
  },
  {
   "metadata": {
    "ExecuteTime": {
     "end_time": "2025-10-01T11:38:21.080238Z",
     "start_time": "2025-10-01T11:38:19.325190Z"
    }
   },
   "cell_type": "code",
   "source": [
    "for i in range(10):\n",
    "    isbn.append(books[\"isbn13\"][i])\n",
    "    sentences = books[\"description\"][i].split(\".\")\n",
    "    predictions = pipe(sentences)\n",
    "    max_scores = calculate_max_emotion_scores(predictions)\n",
    "    for label in emotion_labels:\n",
    "        emotion_scores[label].append(max_scores[label])"
   ],
   "id": "b2675f2c9f1c9453",
   "outputs": [],
   "execution_count": 13
  },
  {
   "metadata": {
    "ExecuteTime": {
     "end_time": "2025-10-01T11:38:35.560288Z",
     "start_time": "2025-10-01T11:38:35.556563Z"
    }
   },
   "cell_type": "code",
   "source": "emotion_scores",
   "id": "833d119460ec6065",
   "outputs": [
    {
     "data": {
      "text/plain": [
       "{'anger': [np.float64(0.051973048597574234),\n",
       "  np.float64(0.6126183867454529),\n",
       "  np.float64(0.051973048597574234),\n",
       "  np.float64(0.3514830768108368),\n",
       "  np.float64(0.08141231536865234),\n",
       "  np.float64(0.051973048597574234),\n",
       "  np.float64(0.23222483694553375),\n",
       "  np.float64(0.5381841063499451),\n",
       "  np.float64(0.051973048597574234),\n",
       "  np.float64(0.12688316404819489)],\n",
       " 'disgust': [np.float64(0.2735905349254608),\n",
       "  np.float64(0.348285436630249),\n",
       "  np.float64(0.15766695141792297),\n",
       "  np.float64(0.15766695141792297),\n",
       "  np.float64(0.18449489772319794),\n",
       "  np.float64(0.15766695141792297),\n",
       "  np.float64(0.7271748185157776),\n",
       "  np.float64(0.15766695141792297),\n",
       "  np.float64(0.15766695141792297),\n",
       "  np.float64(0.15766695141792297)],\n",
       " 'fear': [np.float64(0.9281684160232544),\n",
       "  np.float64(0.942527711391449),\n",
       "  np.float64(0.9723208546638489),\n",
       "  np.float64(0.3607070744037628),\n",
       "  np.float64(0.09504328668117523),\n",
       "  np.float64(0.038786713033914566),\n",
       "  np.float64(0.038786713033914566),\n",
       "  np.float64(0.747427761554718),\n",
       "  np.float64(0.4044956862926483),\n",
       "  np.float64(0.0651504397392273)],\n",
       " 'joy': [np.float64(0.9327980279922485),\n",
       "  np.float64(0.7044215202331543),\n",
       "  np.float64(0.767236590385437),\n",
       "  np.float64(0.25188055634498596),\n",
       "  np.float64(0.03520689904689789),\n",
       "  np.float64(0.020884130150079727),\n",
       "  np.float64(0.04337584227323532),\n",
       "  np.float64(0.8725652694702148),\n",
       "  np.float64(0.020884130150079727),\n",
       "  np.float64(0.052099451422691345)],\n",
       " 'sadness': [np.float64(0.6462165713310242),\n",
       "  np.float64(0.8879395127296448),\n",
       "  np.float64(0.6089329123497009),\n",
       "  np.float64(0.7326871156692505),\n",
       "  np.float64(0.9259037375450134),\n",
       "  np.float64(0.9093223810195923),\n",
       "  np.float64(0.6213927268981934),\n",
       "  np.float64(0.7121942043304443),\n",
       "  np.float64(0.6089329123497009),\n",
       "  np.float64(0.6089329123497009)],\n",
       " 'surprise': [np.float64(0.9671575427055359),\n",
       "  np.float64(0.07482506334781647),\n",
       "  np.float64(0.07482506334781647),\n",
       "  np.float64(0.07482506334781647),\n",
       "  np.float64(0.47588104009628296),\n",
       "  np.float64(0.07482506334781647),\n",
       "  np.float64(0.10239062458276749),\n",
       "  np.float64(0.40799808502197266),\n",
       "  np.float64(0.8202821612358093),\n",
       "  np.float64(0.1289055198431015)],\n",
       " 'neutral': [np.float64(0.7296027541160583),\n",
       "  np.float64(0.25254493951797485),\n",
       "  np.float64(0.04693116247653961),\n",
       "  np.float64(0.04693116247653961),\n",
       "  np.float64(0.04693116247653961),\n",
       "  np.float64(0.04693116247653961),\n",
       "  np.float64(0.2719026505947113),\n",
       "  np.float64(0.07205022126436234),\n",
       "  np.float64(0.23448757827281952),\n",
       "  np.float64(0.08264830708503723)]}"
      ]
     },
     "execution_count": 14,
     "metadata": {},
     "output_type": "execute_result"
    }
   ],
   "execution_count": 14
  },
  {
   "metadata": {
    "ExecuteTime": {
     "end_time": "2025-10-01T11:46:47.736556Z",
     "start_time": "2025-10-01T11:41:00.795753Z"
    }
   },
   "cell_type": "code",
   "source": [
    "from tqdm import tqdm\n",
    "\n",
    "emotion_labels = [\"anger\", \"disgust\", \"fear\", \"joy\", \"sadness\", \"surprise\", \"neutral\"]\n",
    "isbn = []\n",
    "emotion_scores = {label: [] for label in emotion_labels}\n",
    "\n",
    "for i in tqdm(range(len(books))):\n",
    "    isbn.append(books[\"isbn13\"][i])\n",
    "    sentences = books[\"description\"][i].split(\".\")\n",
    "    predictions = pipe(sentences)\n",
    "    max_scores = calculate_max_emotion_scores(predictions)\n",
    "    for label in emotion_labels:\n",
    "        emotion_scores[label].append(max_scores[label])"
   ],
   "id": "7669c45a713a2674",
   "outputs": [
    {
     "name": "stderr",
     "output_type": "stream",
     "text": [
      "100%|██████████| 5252/5252 [05:46<00:00, 15.14it/s]\n"
     ]
    }
   ],
   "execution_count": 15
  },
  {
   "metadata": {
    "ExecuteTime": {
     "end_time": "2025-10-01T11:47:13.104264Z",
     "start_time": "2025-10-01T11:47:13.093140Z"
    }
   },
   "cell_type": "code",
   "source": [
    "emotions_df = pd.DataFrame(emotion_scores)\n",
    "emotions_df[\"isbn13\"] = isbn"
   ],
   "id": "c589e6f1bdfcce4a",
   "outputs": [],
   "execution_count": 16
  },
  {
   "metadata": {
    "ExecuteTime": {
     "end_time": "2025-10-01T11:47:57.763554Z",
     "start_time": "2025-10-01T11:47:57.753747Z"
    }
   },
   "cell_type": "code",
   "source": "emotions_df",
   "id": "d50485ef38c7b26a",
   "outputs": [
    {
     "data": {
      "text/plain": [
       "         anger   disgust      fear       joy   sadness  surprise   neutral  \\\n",
       "0     0.051973  0.273591  0.928168  0.932798  0.646217  0.967158  0.729603   \n",
       "1     0.612618  0.348285  0.942528  0.704422  0.887940  0.074825  0.252545   \n",
       "2     0.051973  0.157667  0.972321  0.767237  0.608933  0.074825  0.046931   \n",
       "3     0.351483  0.157667  0.360707  0.251881  0.732687  0.074825  0.046931   \n",
       "4     0.081412  0.184495  0.095043  0.035207  0.925904  0.475881  0.046931   \n",
       "...        ...       ...       ...       ...       ...       ...       ...   \n",
       "5247  0.148208  0.030643  0.919165  0.255170  0.853722  0.980877  0.030656   \n",
       "5248  0.057145  0.157667  0.038787  0.400263  0.883199  0.074825  0.227765   \n",
       "5249  0.009997  0.009929  0.339217  0.947779  0.375756  0.066685  0.057625   \n",
       "5250  0.051973  0.157667  0.459269  0.759455  0.951104  0.368110  0.067808   \n",
       "5251  0.051973  0.157667  0.038787  0.958549  0.915193  0.074825  0.046931   \n",
       "\n",
       "             isbn13  \n",
       "0     9780002005883  \n",
       "1     9780002261982  \n",
       "2     9780006178736  \n",
       "3     9780006280897  \n",
       "4     9780006280934  \n",
       "...             ...  \n",
       "5247  9788172235222  \n",
       "5248  9788173031014  \n",
       "5249  9788179921623  \n",
       "5250  9788185300535  \n",
       "5251  9789027712059  \n",
       "\n",
       "[5252 rows x 8 columns]"
      ],
      "text/html": [
       "<div>\n",
       "<style scoped>\n",
       "    .dataframe tbody tr th:only-of-type {\n",
       "        vertical-align: middle;\n",
       "    }\n",
       "\n",
       "    .dataframe tbody tr th {\n",
       "        vertical-align: top;\n",
       "    }\n",
       "\n",
       "    .dataframe thead th {\n",
       "        text-align: right;\n",
       "    }\n",
       "</style>\n",
       "<table border=\"1\" class=\"dataframe\">\n",
       "  <thead>\n",
       "    <tr style=\"text-align: right;\">\n",
       "      <th></th>\n",
       "      <th>anger</th>\n",
       "      <th>disgust</th>\n",
       "      <th>fear</th>\n",
       "      <th>joy</th>\n",
       "      <th>sadness</th>\n",
       "      <th>surprise</th>\n",
       "      <th>neutral</th>\n",
       "      <th>isbn13</th>\n",
       "    </tr>\n",
       "  </thead>\n",
       "  <tbody>\n",
       "    <tr>\n",
       "      <th>0</th>\n",
       "      <td>0.051973</td>\n",
       "      <td>0.273591</td>\n",
       "      <td>0.928168</td>\n",
       "      <td>0.932798</td>\n",
       "      <td>0.646217</td>\n",
       "      <td>0.967158</td>\n",
       "      <td>0.729603</td>\n",
       "      <td>9780002005883</td>\n",
       "    </tr>\n",
       "    <tr>\n",
       "      <th>1</th>\n",
       "      <td>0.612618</td>\n",
       "      <td>0.348285</td>\n",
       "      <td>0.942528</td>\n",
       "      <td>0.704422</td>\n",
       "      <td>0.887940</td>\n",
       "      <td>0.074825</td>\n",
       "      <td>0.252545</td>\n",
       "      <td>9780002261982</td>\n",
       "    </tr>\n",
       "    <tr>\n",
       "      <th>2</th>\n",
       "      <td>0.051973</td>\n",
       "      <td>0.157667</td>\n",
       "      <td>0.972321</td>\n",
       "      <td>0.767237</td>\n",
       "      <td>0.608933</td>\n",
       "      <td>0.074825</td>\n",
       "      <td>0.046931</td>\n",
       "      <td>9780006178736</td>\n",
       "    </tr>\n",
       "    <tr>\n",
       "      <th>3</th>\n",
       "      <td>0.351483</td>\n",
       "      <td>0.157667</td>\n",
       "      <td>0.360707</td>\n",
       "      <td>0.251881</td>\n",
       "      <td>0.732687</td>\n",
       "      <td>0.074825</td>\n",
       "      <td>0.046931</td>\n",
       "      <td>9780006280897</td>\n",
       "    </tr>\n",
       "    <tr>\n",
       "      <th>4</th>\n",
       "      <td>0.081412</td>\n",
       "      <td>0.184495</td>\n",
       "      <td>0.095043</td>\n",
       "      <td>0.035207</td>\n",
       "      <td>0.925904</td>\n",
       "      <td>0.475881</td>\n",
       "      <td>0.046931</td>\n",
       "      <td>9780006280934</td>\n",
       "    </tr>\n",
       "    <tr>\n",
       "      <th>...</th>\n",
       "      <td>...</td>\n",
       "      <td>...</td>\n",
       "      <td>...</td>\n",
       "      <td>...</td>\n",
       "      <td>...</td>\n",
       "      <td>...</td>\n",
       "      <td>...</td>\n",
       "      <td>...</td>\n",
       "    </tr>\n",
       "    <tr>\n",
       "      <th>5247</th>\n",
       "      <td>0.148208</td>\n",
       "      <td>0.030643</td>\n",
       "      <td>0.919165</td>\n",
       "      <td>0.255170</td>\n",
       "      <td>0.853722</td>\n",
       "      <td>0.980877</td>\n",
       "      <td>0.030656</td>\n",
       "      <td>9788172235222</td>\n",
       "    </tr>\n",
       "    <tr>\n",
       "      <th>5248</th>\n",
       "      <td>0.057145</td>\n",
       "      <td>0.157667</td>\n",
       "      <td>0.038787</td>\n",
       "      <td>0.400263</td>\n",
       "      <td>0.883199</td>\n",
       "      <td>0.074825</td>\n",
       "      <td>0.227765</td>\n",
       "      <td>9788173031014</td>\n",
       "    </tr>\n",
       "    <tr>\n",
       "      <th>5249</th>\n",
       "      <td>0.009997</td>\n",
       "      <td>0.009929</td>\n",
       "      <td>0.339217</td>\n",
       "      <td>0.947779</td>\n",
       "      <td>0.375756</td>\n",
       "      <td>0.066685</td>\n",
       "      <td>0.057625</td>\n",
       "      <td>9788179921623</td>\n",
       "    </tr>\n",
       "    <tr>\n",
       "      <th>5250</th>\n",
       "      <td>0.051973</td>\n",
       "      <td>0.157667</td>\n",
       "      <td>0.459269</td>\n",
       "      <td>0.759455</td>\n",
       "      <td>0.951104</td>\n",
       "      <td>0.368110</td>\n",
       "      <td>0.067808</td>\n",
       "      <td>9788185300535</td>\n",
       "    </tr>\n",
       "    <tr>\n",
       "      <th>5251</th>\n",
       "      <td>0.051973</td>\n",
       "      <td>0.157667</td>\n",
       "      <td>0.038787</td>\n",
       "      <td>0.958549</td>\n",
       "      <td>0.915193</td>\n",
       "      <td>0.074825</td>\n",
       "      <td>0.046931</td>\n",
       "      <td>9789027712059</td>\n",
       "    </tr>\n",
       "  </tbody>\n",
       "</table>\n",
       "<p>5252 rows × 8 columns</p>\n",
       "</div>"
      ]
     },
     "execution_count": 18,
     "metadata": {},
     "output_type": "execute_result"
    }
   ],
   "execution_count": 18
  },
  {
   "metadata": {
    "ExecuteTime": {
     "end_time": "2025-10-01T11:48:34.260087Z",
     "start_time": "2025-10-01T11:48:34.248169Z"
    }
   },
   "cell_type": "code",
   "source": "books = pd.merge(books, emotions_df, on=\"isbn13\")",
   "id": "3dba8ebb035b2032",
   "outputs": [],
   "execution_count": 19
  },
  {
   "metadata": {
    "ExecuteTime": {
     "end_time": "2025-10-01T11:48:42.431551Z",
     "start_time": "2025-10-01T11:48:42.419749Z"
    }
   },
   "cell_type": "code",
   "source": "books",
   "id": "5d54510e07792aa7",
   "outputs": [
    {
     "data": {
      "text/plain": [
       "             isbn13      isbn10  \\\n",
       "0     9780002005883  0002005883   \n",
       "1     9780002261982  0002261987   \n",
       "2     9780006178736  0006178731   \n",
       "3     9780006280897  0006280897   \n",
       "4     9780006280934  0006280935   \n",
       "...             ...         ...   \n",
       "5247  9788172235222  8172235224   \n",
       "5248  9788173031014  8173031010   \n",
       "5249  9788179921623  817992162X   \n",
       "5250  9788185300535  8185300534   \n",
       "5251  9789027712059  9027712050   \n",
       "\n",
       "                                                  title  \\\n",
       "0                                                Gilead   \n",
       "1                                          Spider's Web   \n",
       "2                                        Rage of angels   \n",
       "3                                        The Four Loves   \n",
       "4                                   The Problem of Pain   \n",
       "...                                                 ...   \n",
       "5247                                  Mistaken Identity   \n",
       "5248                                Journey to the East   \n",
       "5249  The Monk Who Sold His Ferrari: A Fable About F...   \n",
       "5250                                          I Am that   \n",
       "5251                           The Berlin Phenomenology   \n",
       "\n",
       "                                           authors  \\\n",
       "0                               Marilynne Robinson   \n",
       "1                  Charles Osborne;Agatha Christie   \n",
       "2                                   Sidney Sheldon   \n",
       "3                              Clive Staples Lewis   \n",
       "4                              Clive Staples Lewis   \n",
       "...                                            ...   \n",
       "5247                              Nayantara Sahgal   \n",
       "5248                                 Hermann Hesse   \n",
       "5249                                  Robin Sharma   \n",
       "5250  Sri Nisargadatta Maharaj;Sudhakar S. Dikshit   \n",
       "5251                 Georg Wilhelm Friedrich Hegel   \n",
       "\n",
       "                         categories  \\\n",
       "0                           Fiction   \n",
       "1     Detective and mystery stories   \n",
       "2                           Fiction   \n",
       "3                    Christian life   \n",
       "4                    Christian life   \n",
       "...                             ...   \n",
       "5247        Indic fiction (English)   \n",
       "5248              Adventure stories   \n",
       "5249               Health & Fitness   \n",
       "5250                     Philosophy   \n",
       "5251                        History   \n",
       "\n",
       "                                              thumbnail  \\\n",
       "0     http://books.google.com/books/content?id=KQZCP...   \n",
       "1     http://books.google.com/books/content?id=gA5GP...   \n",
       "2     http://books.google.com/books/content?id=FKo2T...   \n",
       "3     http://books.google.com/books/content?id=XhQ5X...   \n",
       "4     http://books.google.com/books/content?id=Kk-uV...   \n",
       "...                                                 ...   \n",
       "5247  http://books.google.com/books/content?id=q-tKP...   \n",
       "5248  http://books.google.com/books/content?id=rq6JP...   \n",
       "5249  http://books.google.com/books/content?id=c_7mf...   \n",
       "5250  http://books.google.com/books/content?id=Fv_JP...   \n",
       "5251  http://books.google.com/books/content?id=Vy7Sk...   \n",
       "\n",
       "                                            description  published_year  \\\n",
       "0     A NOVEL THAT READERS and critics have been eag...          2004.0   \n",
       "1     A new 'Christie for Christmas' -- a full-lengt...          2000.0   \n",
       "2     A memorable, mesmerizing heroine Jennifer -- b...          1993.0   \n",
       "3     Lewis' work on the nature of love divides love...          2002.0   \n",
       "4     \"In The Problem of Pain, C.S. Lewis, one of th...          2002.0   \n",
       "...                                                 ...             ...   \n",
       "5247  On A Train Journey Home To North India After L...          2003.0   \n",
       "5248  This book tells the tale of a man who goes on ...          2002.0   \n",
       "5249  Wisdom to Create a Life of Passion, Purpose, a...          2003.0   \n",
       "5250  This collection of the timeless teachings of o...          1999.0   \n",
       "5251  Since the three volume edition ofHegel's Philo...          1981.0   \n",
       "\n",
       "      average_rating  num_pages  ...  \\\n",
       "0               3.85      247.0  ...   \n",
       "1               3.83      241.0  ...   \n",
       "2               3.93      512.0  ...   \n",
       "3               4.15      170.0  ...   \n",
       "4               4.09      176.0  ...   \n",
       "...              ...        ...  ...   \n",
       "5247            2.93      324.0  ...   \n",
       "5248            3.70      175.0  ...   \n",
       "5249            3.82      198.0  ...   \n",
       "5250            4.51      531.0  ...   \n",
       "5251            0.00      210.0  ...   \n",
       "\n",
       "                                     title_and_subtitle  \\\n",
       "0                                                Gilead   \n",
       "1                                 Spider's Web: A Novel   \n",
       "2                                        Rage of angels   \n",
       "3                                        The Four Loves   \n",
       "4                                   The Problem of Pain   \n",
       "...                                                 ...   \n",
       "5247                                  Mistaken Identity   \n",
       "5248                                Journey to the East   \n",
       "5249  The Monk Who Sold His Ferrari: A Fable About F...   \n",
       "5250     I Am that: Talks with Sri Nisargadatta Maharaj   \n",
       "5251                           The Berlin Phenomenology   \n",
       "\n",
       "                                     tagged_description simple_categories  \\\n",
       "0     9780002005883 A NOVEL THAT READERS and critics...           Fiction   \n",
       "1     9780002261982 A new 'Christie for Christmas' -...           Fiction   \n",
       "2     9780006178736 A memorable, mesmerizing heroine...           Fiction   \n",
       "3     9780006280897 Lewis' work on the nature of lov...        Nonfiction   \n",
       "4     9780006280934 \"In The Problem of Pain, C.S. Le...        Nonfiction   \n",
       "...                                                 ...               ...   \n",
       "5247  9788172235222 On A Train Journey Home To North...           Fiction   \n",
       "5248  9788173031014 This book tells the tale of a ma...        Nonfiction   \n",
       "5249  9788179921623 Wisdom to Create a Life of Passi...           Fiction   \n",
       "5250  9788185300535 This collection of the timeless ...        Nonfiction   \n",
       "5251  9789027712059 Since the three volume edition o...        Nonfiction   \n",
       "\n",
       "         anger   disgust      fear       joy   sadness  surprise   neutral  \n",
       "0     0.051973  0.273591  0.928168  0.932798  0.646217  0.967158  0.729603  \n",
       "1     0.612618  0.348285  0.942528  0.704422  0.887940  0.074825  0.252545  \n",
       "2     0.051973  0.157667  0.972321  0.767237  0.608933  0.074825  0.046931  \n",
       "3     0.351483  0.157667  0.360707  0.251881  0.732687  0.074825  0.046931  \n",
       "4     0.081412  0.184495  0.095043  0.035207  0.925904  0.475881  0.046931  \n",
       "...        ...       ...       ...       ...       ...       ...       ...  \n",
       "5247  0.148208  0.030643  0.919165  0.255170  0.853722  0.980877  0.030656  \n",
       "5248  0.057145  0.157667  0.038787  0.400263  0.883199  0.074825  0.227765  \n",
       "5249  0.009997  0.009929  0.339217  0.947779  0.375756  0.066685  0.057625  \n",
       "5250  0.051973  0.157667  0.459269  0.759455  0.951104  0.368110  0.067808  \n",
       "5251  0.051973  0.157667  0.038787  0.958549  0.915193  0.074825  0.046931  \n",
       "\n",
       "[5252 rows x 21 columns]"
      ],
      "text/html": [
       "<div>\n",
       "<style scoped>\n",
       "    .dataframe tbody tr th:only-of-type {\n",
       "        vertical-align: middle;\n",
       "    }\n",
       "\n",
       "    .dataframe tbody tr th {\n",
       "        vertical-align: top;\n",
       "    }\n",
       "\n",
       "    .dataframe thead th {\n",
       "        text-align: right;\n",
       "    }\n",
       "</style>\n",
       "<table border=\"1\" class=\"dataframe\">\n",
       "  <thead>\n",
       "    <tr style=\"text-align: right;\">\n",
       "      <th></th>\n",
       "      <th>isbn13</th>\n",
       "      <th>isbn10</th>\n",
       "      <th>title</th>\n",
       "      <th>authors</th>\n",
       "      <th>categories</th>\n",
       "      <th>thumbnail</th>\n",
       "      <th>description</th>\n",
       "      <th>published_year</th>\n",
       "      <th>average_rating</th>\n",
       "      <th>num_pages</th>\n",
       "      <th>...</th>\n",
       "      <th>title_and_subtitle</th>\n",
       "      <th>tagged_description</th>\n",
       "      <th>simple_categories</th>\n",
       "      <th>anger</th>\n",
       "      <th>disgust</th>\n",
       "      <th>fear</th>\n",
       "      <th>joy</th>\n",
       "      <th>sadness</th>\n",
       "      <th>surprise</th>\n",
       "      <th>neutral</th>\n",
       "    </tr>\n",
       "  </thead>\n",
       "  <tbody>\n",
       "    <tr>\n",
       "      <th>0</th>\n",
       "      <td>9780002005883</td>\n",
       "      <td>0002005883</td>\n",
       "      <td>Gilead</td>\n",
       "      <td>Marilynne Robinson</td>\n",
       "      <td>Fiction</td>\n",
       "      <td>http://books.google.com/books/content?id=KQZCP...</td>\n",
       "      <td>A NOVEL THAT READERS and critics have been eag...</td>\n",
       "      <td>2004.0</td>\n",
       "      <td>3.85</td>\n",
       "      <td>247.0</td>\n",
       "      <td>...</td>\n",
       "      <td>Gilead</td>\n",
       "      <td>9780002005883 A NOVEL THAT READERS and critics...</td>\n",
       "      <td>Fiction</td>\n",
       "      <td>0.051973</td>\n",
       "      <td>0.273591</td>\n",
       "      <td>0.928168</td>\n",
       "      <td>0.932798</td>\n",
       "      <td>0.646217</td>\n",
       "      <td>0.967158</td>\n",
       "      <td>0.729603</td>\n",
       "    </tr>\n",
       "    <tr>\n",
       "      <th>1</th>\n",
       "      <td>9780002261982</td>\n",
       "      <td>0002261987</td>\n",
       "      <td>Spider's Web</td>\n",
       "      <td>Charles Osborne;Agatha Christie</td>\n",
       "      <td>Detective and mystery stories</td>\n",
       "      <td>http://books.google.com/books/content?id=gA5GP...</td>\n",
       "      <td>A new 'Christie for Christmas' -- a full-lengt...</td>\n",
       "      <td>2000.0</td>\n",
       "      <td>3.83</td>\n",
       "      <td>241.0</td>\n",
       "      <td>...</td>\n",
       "      <td>Spider's Web: A Novel</td>\n",
       "      <td>9780002261982 A new 'Christie for Christmas' -...</td>\n",
       "      <td>Fiction</td>\n",
       "      <td>0.612618</td>\n",
       "      <td>0.348285</td>\n",
       "      <td>0.942528</td>\n",
       "      <td>0.704422</td>\n",
       "      <td>0.887940</td>\n",
       "      <td>0.074825</td>\n",
       "      <td>0.252545</td>\n",
       "    </tr>\n",
       "    <tr>\n",
       "      <th>2</th>\n",
       "      <td>9780006178736</td>\n",
       "      <td>0006178731</td>\n",
       "      <td>Rage of angels</td>\n",
       "      <td>Sidney Sheldon</td>\n",
       "      <td>Fiction</td>\n",
       "      <td>http://books.google.com/books/content?id=FKo2T...</td>\n",
       "      <td>A memorable, mesmerizing heroine Jennifer -- b...</td>\n",
       "      <td>1993.0</td>\n",
       "      <td>3.93</td>\n",
       "      <td>512.0</td>\n",
       "      <td>...</td>\n",
       "      <td>Rage of angels</td>\n",
       "      <td>9780006178736 A memorable, mesmerizing heroine...</td>\n",
       "      <td>Fiction</td>\n",
       "      <td>0.051973</td>\n",
       "      <td>0.157667</td>\n",
       "      <td>0.972321</td>\n",
       "      <td>0.767237</td>\n",
       "      <td>0.608933</td>\n",
       "      <td>0.074825</td>\n",
       "      <td>0.046931</td>\n",
       "    </tr>\n",
       "    <tr>\n",
       "      <th>3</th>\n",
       "      <td>9780006280897</td>\n",
       "      <td>0006280897</td>\n",
       "      <td>The Four Loves</td>\n",
       "      <td>Clive Staples Lewis</td>\n",
       "      <td>Christian life</td>\n",
       "      <td>http://books.google.com/books/content?id=XhQ5X...</td>\n",
       "      <td>Lewis' work on the nature of love divides love...</td>\n",
       "      <td>2002.0</td>\n",
       "      <td>4.15</td>\n",
       "      <td>170.0</td>\n",
       "      <td>...</td>\n",
       "      <td>The Four Loves</td>\n",
       "      <td>9780006280897 Lewis' work on the nature of lov...</td>\n",
       "      <td>Nonfiction</td>\n",
       "      <td>0.351483</td>\n",
       "      <td>0.157667</td>\n",
       "      <td>0.360707</td>\n",
       "      <td>0.251881</td>\n",
       "      <td>0.732687</td>\n",
       "      <td>0.074825</td>\n",
       "      <td>0.046931</td>\n",
       "    </tr>\n",
       "    <tr>\n",
       "      <th>4</th>\n",
       "      <td>9780006280934</td>\n",
       "      <td>0006280935</td>\n",
       "      <td>The Problem of Pain</td>\n",
       "      <td>Clive Staples Lewis</td>\n",
       "      <td>Christian life</td>\n",
       "      <td>http://books.google.com/books/content?id=Kk-uV...</td>\n",
       "      <td>\"In The Problem of Pain, C.S. Lewis, one of th...</td>\n",
       "      <td>2002.0</td>\n",
       "      <td>4.09</td>\n",
       "      <td>176.0</td>\n",
       "      <td>...</td>\n",
       "      <td>The Problem of Pain</td>\n",
       "      <td>9780006280934 \"In The Problem of Pain, C.S. Le...</td>\n",
       "      <td>Nonfiction</td>\n",
       "      <td>0.081412</td>\n",
       "      <td>0.184495</td>\n",
       "      <td>0.095043</td>\n",
       "      <td>0.035207</td>\n",
       "      <td>0.925904</td>\n",
       "      <td>0.475881</td>\n",
       "      <td>0.046931</td>\n",
       "    </tr>\n",
       "    <tr>\n",
       "      <th>...</th>\n",
       "      <td>...</td>\n",
       "      <td>...</td>\n",
       "      <td>...</td>\n",
       "      <td>...</td>\n",
       "      <td>...</td>\n",
       "      <td>...</td>\n",
       "      <td>...</td>\n",
       "      <td>...</td>\n",
       "      <td>...</td>\n",
       "      <td>...</td>\n",
       "      <td>...</td>\n",
       "      <td>...</td>\n",
       "      <td>...</td>\n",
       "      <td>...</td>\n",
       "      <td>...</td>\n",
       "      <td>...</td>\n",
       "      <td>...</td>\n",
       "      <td>...</td>\n",
       "      <td>...</td>\n",
       "      <td>...</td>\n",
       "      <td>...</td>\n",
       "    </tr>\n",
       "    <tr>\n",
       "      <th>5247</th>\n",
       "      <td>9788172235222</td>\n",
       "      <td>8172235224</td>\n",
       "      <td>Mistaken Identity</td>\n",
       "      <td>Nayantara Sahgal</td>\n",
       "      <td>Indic fiction (English)</td>\n",
       "      <td>http://books.google.com/books/content?id=q-tKP...</td>\n",
       "      <td>On A Train Journey Home To North India After L...</td>\n",
       "      <td>2003.0</td>\n",
       "      <td>2.93</td>\n",
       "      <td>324.0</td>\n",
       "      <td>...</td>\n",
       "      <td>Mistaken Identity</td>\n",
       "      <td>9788172235222 On A Train Journey Home To North...</td>\n",
       "      <td>Fiction</td>\n",
       "      <td>0.148208</td>\n",
       "      <td>0.030643</td>\n",
       "      <td>0.919165</td>\n",
       "      <td>0.255170</td>\n",
       "      <td>0.853722</td>\n",
       "      <td>0.980877</td>\n",
       "      <td>0.030656</td>\n",
       "    </tr>\n",
       "    <tr>\n",
       "      <th>5248</th>\n",
       "      <td>9788173031014</td>\n",
       "      <td>8173031010</td>\n",
       "      <td>Journey to the East</td>\n",
       "      <td>Hermann Hesse</td>\n",
       "      <td>Adventure stories</td>\n",
       "      <td>http://books.google.com/books/content?id=rq6JP...</td>\n",
       "      <td>This book tells the tale of a man who goes on ...</td>\n",
       "      <td>2002.0</td>\n",
       "      <td>3.70</td>\n",
       "      <td>175.0</td>\n",
       "      <td>...</td>\n",
       "      <td>Journey to the East</td>\n",
       "      <td>9788173031014 This book tells the tale of a ma...</td>\n",
       "      <td>Nonfiction</td>\n",
       "      <td>0.057145</td>\n",
       "      <td>0.157667</td>\n",
       "      <td>0.038787</td>\n",
       "      <td>0.400263</td>\n",
       "      <td>0.883199</td>\n",
       "      <td>0.074825</td>\n",
       "      <td>0.227765</td>\n",
       "    </tr>\n",
       "    <tr>\n",
       "      <th>5249</th>\n",
       "      <td>9788179921623</td>\n",
       "      <td>817992162X</td>\n",
       "      <td>The Monk Who Sold His Ferrari: A Fable About F...</td>\n",
       "      <td>Robin Sharma</td>\n",
       "      <td>Health &amp; Fitness</td>\n",
       "      <td>http://books.google.com/books/content?id=c_7mf...</td>\n",
       "      <td>Wisdom to Create a Life of Passion, Purpose, a...</td>\n",
       "      <td>2003.0</td>\n",
       "      <td>3.82</td>\n",
       "      <td>198.0</td>\n",
       "      <td>...</td>\n",
       "      <td>The Monk Who Sold His Ferrari: A Fable About F...</td>\n",
       "      <td>9788179921623 Wisdom to Create a Life of Passi...</td>\n",
       "      <td>Fiction</td>\n",
       "      <td>0.009997</td>\n",
       "      <td>0.009929</td>\n",
       "      <td>0.339217</td>\n",
       "      <td>0.947779</td>\n",
       "      <td>0.375756</td>\n",
       "      <td>0.066685</td>\n",
       "      <td>0.057625</td>\n",
       "    </tr>\n",
       "    <tr>\n",
       "      <th>5250</th>\n",
       "      <td>9788185300535</td>\n",
       "      <td>8185300534</td>\n",
       "      <td>I Am that</td>\n",
       "      <td>Sri Nisargadatta Maharaj;Sudhakar S. Dikshit</td>\n",
       "      <td>Philosophy</td>\n",
       "      <td>http://books.google.com/books/content?id=Fv_JP...</td>\n",
       "      <td>This collection of the timeless teachings of o...</td>\n",
       "      <td>1999.0</td>\n",
       "      <td>4.51</td>\n",
       "      <td>531.0</td>\n",
       "      <td>...</td>\n",
       "      <td>I Am that: Talks with Sri Nisargadatta Maharaj</td>\n",
       "      <td>9788185300535 This collection of the timeless ...</td>\n",
       "      <td>Nonfiction</td>\n",
       "      <td>0.051973</td>\n",
       "      <td>0.157667</td>\n",
       "      <td>0.459269</td>\n",
       "      <td>0.759455</td>\n",
       "      <td>0.951104</td>\n",
       "      <td>0.368110</td>\n",
       "      <td>0.067808</td>\n",
       "    </tr>\n",
       "    <tr>\n",
       "      <th>5251</th>\n",
       "      <td>9789027712059</td>\n",
       "      <td>9027712050</td>\n",
       "      <td>The Berlin Phenomenology</td>\n",
       "      <td>Georg Wilhelm Friedrich Hegel</td>\n",
       "      <td>History</td>\n",
       "      <td>http://books.google.com/books/content?id=Vy7Sk...</td>\n",
       "      <td>Since the three volume edition ofHegel's Philo...</td>\n",
       "      <td>1981.0</td>\n",
       "      <td>0.00</td>\n",
       "      <td>210.0</td>\n",
       "      <td>...</td>\n",
       "      <td>The Berlin Phenomenology</td>\n",
       "      <td>9789027712059 Since the three volume edition o...</td>\n",
       "      <td>Nonfiction</td>\n",
       "      <td>0.051973</td>\n",
       "      <td>0.157667</td>\n",
       "      <td>0.038787</td>\n",
       "      <td>0.958549</td>\n",
       "      <td>0.915193</td>\n",
       "      <td>0.074825</td>\n",
       "      <td>0.046931</td>\n",
       "    </tr>\n",
       "  </tbody>\n",
       "</table>\n",
       "<p>5252 rows × 21 columns</p>\n",
       "</div>"
      ]
     },
     "execution_count": 20,
     "metadata": {},
     "output_type": "execute_result"
    }
   ],
   "execution_count": 20
  },
  {
   "metadata": {
    "ExecuteTime": {
     "end_time": "2025-10-01T11:50:01.597036Z",
     "start_time": "2025-10-01T11:50:01.512613Z"
    }
   },
   "cell_type": "code",
   "source": "books.to_csv(\"books_with_emotions.csv\", index=False)",
   "id": "41b6d62539c9261f",
   "outputs": [],
   "execution_count": 22
  }
 ],
 "metadata": {
  "kernelspec": {
   "display_name": ".venv (3.13.7)",
   "language": "python",
   "name": "python3"
  },
  "language_info": {
   "codemirror_mode": {
    "name": "ipython",
    "version": 3
   },
   "file_extension": ".py",
   "mimetype": "text/x-python",
   "name": "python",
   "nbconvert_exporter": "python",
   "pygments_lexer": "ipython3",
   "version": "3.13.7"
  }
 },
 "nbformat": 4,
 "nbformat_minor": 5
}
